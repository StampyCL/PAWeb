{
    "cells": [
        {
            "cell_type": "markdown",
            "metadata": {},
            "source": [
                "#    <center>Informatique tc3 (Projet Web) - TD3</center>"
            ]
        },
        {
            "cell_type": "markdown",
            "metadata": {},
            "source": [
                "## <center style=\"color: #66d\">D\u00e9veloppement d'interfaces Web</center>"
            ]
        },
        {
            "cell_type": "markdown",
            "metadata": {},
            "source": [
                "### 1. Pr\u00e9ambule"
            ]
        },
        {
            "cell_type": "markdown",
            "metadata": {},
            "source": [
                "#### a) Modalit\u00e9s pratiques"
            ]
        },
        {
            "cell_type": "markdown",
            "metadata": {},
            "source": [
                "Il est possible d'inclure du code HTML dans un notebook ipython. Essayez : c'est simple, il suffit d'\u00e9crire des balises dans une zone de texte <i>(Markdown)</i>. Si vous manquez <span style=\"color:red\">d'inspiration</span>, v\u00e9rifiez simplement comment <em>CE TEXTE</em> a \u00e9t\u00e9 mis en italiques, ou <strong>CELUI-CI</strong> en gras, en regardant simplement le code source de la cellule."
            ]
        },
        {
            "cell_type": "markdown",
            "metadata": {},
            "source": [
                "Le d\u00e9veloppement d'interfaces pour une application Web dans un notebook n'est toutefois pas possible car&#160;:\n",
                "- la mise en page du notebook va interf\u00e9rer avec la pr\u00e9sentation graphique de votre interface,\n",
                "- l'interactivit\u00e9 de votre interface va interf\u00e9rer avec celle du notebook,\n",
                "- la soumission d'un formulaire va vous faire quitter le notebook,\n",
                "- vous ne pourrez pas facilement ex\u00e9cuter du code javascript dans votre notebook,\n",
                "- il existe des r\u00e8gles de s\u00e9curit\u00e9 qui emp\u00eachent un navigateur d'\u00e9mettre des requ\u00eates AJAX vers un serveur <i>(celui que vous aurez d\u00e9velopp\u00e9)</i> autre que celui dont est issu la page qui envoie la requ\u00eate <em>(le serveur de notebook)."
            ]
        },
        {
            "cell_type": "markdown",
            "metadata": {},
            "source": [
                "Pour toutes ces raisons, il va falloir :\n",
                "\n",
                "1) vous munir de votre \u00e9diteur de texte favori <sup>*</sup>,\n",
                "\n",
                "2) cr\u00e9er vos fichiers <tt>.html</tt> et <tt>.css</tt> dans <b>le r\u00e9pertoire <tt>/client</tt></b> de votre serveur.\n",
                "\n",
                "3) acc\u00e9der aux fichiers html <b>via votre serveur</b>.<br>\n",
                "AJAX ne fonctionnera pas si vous ouvrez vos pages html en faisant un double-clic sur le fichier <i>(cf. url en file:// dans la barre d'adresse du navigateur)</i>."
            ]
        },
        {
            "cell_type": "markdown",
            "metadata": {},
            "source": [
                "#### b) Choix d'un \u00e9diteur de texte"
            ]
        },
        {
            "cell_type": "markdown",
            "metadata": {},
            "source": [
                "N'importe quel \u00e9diteur de texte fait l'affaire. Attention, ni Word, ni WordPad ne sont des \u00e9diteurs de texte : ce sont des programmes de <em>traitement de texte</em>. Voici quelques suggestions si vous n'avez pas d\u00e9j\u00e0 votre favori :"
            ]
        },
        {
            "cell_type": "markdown",
            "metadata": {},
            "source": [
                "<img title=\"Bloc Notes Windows\" src=\"logo_notepad.png\" style=\"display:inline;width:100px\">\n",
                "<img title=\"Notepad++\" src=\"logo_notepadpp.png\" style=\"display:inline;width:100px;margin-left:50px\">\n",
                "<img title=\"Vim - Vi for Windows\"src=\"logo_vim.svg\" style=\"display:inline;width:100px;margin-left:50px\">\n",
                "<img title=\"Emacs\" src=\"logo_emacs.svg\" style=\"display:inline;width:100px;margin-left:50px\">\n",
                "<img title=\"Sublime Text\" src=\"logo_sublimetext.png\" style=\"display:inline;width:100px;margin-left:50px\">"
            ]
        },
        {
            "cell_type": "markdown",
            "metadata": {},
            "source": [
                "Si tout cela vous laisse perplexe, t\u00e9l\u00e9chargez et installez Sublime Text, il convient tr\u00e8s bien et il en existe une version pour toutes les platerformes."
            ]
        },
        {
            "cell_type": "markdown",
            "metadata": {},
            "source": [
                "### 2. D\u00e9veloppement d'une premi\u00e8re interface simple"
            ]
        },
        {
            "cell_type": "markdown",
            "metadata": {},
            "source": [
                "<div style=\"background-color:#eef;padding:10px;border-radius:3px\">\n",
                "<b>2.1 -</b>\n",
                "D\u00e9veloppez un document HTML appel\u00e9 <a href=\"http://localhost:8080/TD3-s1.html\"><tt>TD3-s1.html</tt></a> dans le r\u00e9pertoire <tt>client</tt> de ce TD. Cette page comprendra un formulaire qui demande le nom et le pr\u00e9nom de l'utilisateur. Lors de la soumission du formulaire on d\u00e9sire que le navigateur appelle le serveur dont est issu le document avec la m\u00e9thode <tt>POST</tt>, le chemin d'acc\u00e8s <tt>/toctoc</tt> et les variables <tt>Nom</tt> et <tt>Prenom</tt> dans la cha\u00eene de requ\u00eate envoy\u00e9e avec le corps.\n",
                "</div>\n",
                "<img src=\"TD3-s1.png\" style=\"border:1px solid #666; border-radius:5px; box-shadow: 5px 5px 5px #444\">\n",
                "<div style=\"text-align:center; font-size:80%; margin-top:0.5em\">Exemple d'interface pour le premier formulaire</div>"
            ]
        },
        {
            "cell_type": "markdown",
            "metadata": {},
            "source": [
                "<div style=\"background-color:#eef;padding:10px;border-radius:3px\">\n",
                "<b>2.2 -</b>\n",
                "Une fois cette page d\u00e9velopp\u00e9e, d\u00e9marrez le serveur <tt>TD3-serveur1.py</tt> fourni avec ce TD et v\u00e9rifiez que le serveur vous renvoie bien le r\u00e9sultat attendu en remplissant le formulaire sur : http://localhost:8080/TD3-s1.html\n",
                "\n",
                "<img src=\"TD3-s1-reponse.png\">\n",
                "<div style=\"text-align:center; font-size:80%\">Exemple de r\u00e9ponse attendue</div>"
            ]
        },
        {
            "cell_type": "markdown",
            "metadata": {},
            "source": [
                "<b>Rappels :</b> Comme lors du TD pr\u00e9c\u00e9dent, le serveur `TD3-serveur1.py` doit \u00eatre d\u00e9marr\u00e9 manuellement via Spyder et nous vous conseillons de le lancer dans une console d\u00e9di\u00e9e en allant dans le menu \"Ex\u00e9cution&nbsp;|&nbsp;Configurer...\" et en choisissant l'option \"Ex\u00e9cuter dans une nouvelle console Python d\u00e9di\u00e9e\"."
            ]
        },
        {
            "cell_type": "markdown",
            "metadata": {},
            "source": [
                "<div style=\"background-color:#eef;padding:10px;border-radius:3px\">\n",
                "<b>2.3 -</b> Modifier votre document HTML pour obtenir la version <a href=\"http://localhost:8080/TD3-s2.html\"><tt>TD3-s2.html</tt></a> qui r\u00e9alise la soumission du formulaire avec la m\u00e9thode <tt>GET</tt> au lieu de <tt>POST</tt>. Quelles sont les diff\u00e9rences ?"
            ]
        },
        {
            "cell_type": "markdown",
            "metadata": {},
            "source": [
                "<div style=\"background-color:#eef;padding:10px;border-radius:3px\">\n",
                "<b>2.4 -</b> Une fois votre formulaire fonctionnel, am\u00e9liorez sa pr\u00e9sentation en vous aidant du cours sur CSS.\n",
                "</div>\n",
                "\n",
                "<img src=\"TD3-s2.png\">\n",
                "<div style=\"text-align:center; font-size:80%\">Exemple de pr\u00e9sentation</div>"
            ]
        },
        {
            "cell_type": "markdown",
            "metadata": {},
            "source": [
                "### 3. Am\u00e9liorations : passage \u00e0 une requ\u00eate AJAX"
            ]
        },
        {
            "cell_type": "markdown",
            "metadata": {},
            "source": [
                "Lorsque la r\u00e9ponse revient, il est dommage qu'elle soit affich\u00e9e dans une fen\u00eatre diff\u00e9rente, et dans une pr\u00e9sentation tr\u00e8s diff\u00e9rente de celle de la page appelante.\n",
                "\n",
                "Nous allons maintenant modifier le serveur pour qu'il renvoie directement les donn\u00e9es _(non formatt\u00e9es en HTML)_ et pour que la page appelante affiche directement le r\u00e9sultat obtenu en envoyant une requ\u00eate AJAX plut\u00f4t qu'en soumettant un formulaire."
            ]
        },
        {
            "cell_type": "markdown",
            "metadata": {},
            "source": [
                "<div style=\"background-color:#eef;padding:10px;border-radius:3px\">\n",
                "<b>3.1 -</b> Modifiez le serveur en le renommant <tt>TD3-s3.py</tt> pour qu'il renvoie de l'information format\u00e9e en JSON, plut\u00f4t que du texte HTML (pour les m\u00e9thodes <tt>GET</tt> et <tt>POST</tt>). On s'attend \u00e0 une r\u00e9ponse qui ressemble \u00e0 :\n",
                "\n",
                "<pre>\n",
                "{\n",
                "  \"given_name\": \"Eva\",\n",
                "  \"family_name\": \"Drouy\"\n",
                "}\n",
                "</pre>"
            ]
        },
        {
            "cell_type": "code",
            "execution_count": 1,
            "metadata": {
                "collapsed": true
            },
            "outputs": [],
            "source": [
                "%pycat TD3-s3.py"
            ]
        },
        {
            "cell_type": "markdown",
            "metadata": {},
            "source": [
                "<div style=\"background-color:#eef;padding:10px;border-radius:3px\">\n",
                "<b>3.2 -</b> Modifiez maintenant votre interface en l'appelant <a href=\"http://localhost:8080/TD3-s3.html\"><tt>TD3-s3.html</tt></a> :\n",
                "- supprimez les balises <tt>form</tt> <i>(ouvrante et fermante)</i>,\n",
                "- ajouter <tt>id=\"prenom\"</tt> et <tt>id=\"nom\"</tt> dans les champs  <tt>&lt;input&gt;</tt> correspondants\n",
                "- ajoutez un paragraphe ou un \u00e9l\u00e9ment <tt>&lt;div&gt;</tt> avec un attribut <tt>id=\"reponse\"</tt>,\n",
                "- remplacez la balise <tt>&lt;input type=\"submit\"&gt;</tt> par un \u00e9l\u00e9ment <tt>&lt;button&gt;</tt> avec un attribut <tt>id=\"bouton\"</tt>,\n",
                "- puis d\u00e9clarez un gestionnaire d'\u00e9v\u00e9nement pour un clic sur le bouton avec le code Javascript suivant :\n",
                "<pre>\n",
                "&lt;script&gt;\n",
                "document.getElementById('bouton').addEventListener('click', envoiformulaire);\n",
                "&nbsp;\n",
                "function envoiformulaire(e) {\n",
                "    var xhr = new XMLHttpRequest(); \n",
                "    // on r\u00e9cup\u00e8re le nom et le pr\u00e9nom\n",
                "    var pr = document.getElementById('prenom').value,\n",
                "        no = document.getElementById('nom').value ;\n",
                "    xhr.onload = function() {   // fonction callback\n",
                "      // r\u00e9cup\u00e9ration des donn\u00e9es renvoy\u00e9es par le serveur\n",
                "      var data = JSON.parse(this.responseText);\n",
                "      // affichage dans la zone 'reponse' du pr\u00e9nom et du nom r\u00e9cup\u00e9r\u00e9 par l'appel au serveur\n",
                "      document.getElementById('reponse').innerHTML = 'Bonjour '+data.given_name+' '+data.family_name;\n",
                "      };\n",
                "    xhr.open('GET','/toctoc?'+'Prenom='+pr+'&'+'Nom='+no,true);  // requ\u00eate avec une \"query string\"\n",
                "    xhr.send();\n",
                "}\n",
                "&lt;/script&gt;</pre>\n",
                "</div>\n",
                "\n",
                "<img src=\"TD3-s3.png\" width=\"400\">\n",
                "<div style=\"text-align:center; font-size:80%\">Exemple de pr\u00e9sentation</div>"
            ]
        },
        {
            "cell_type": "markdown",
            "metadata": {},
            "source": [
                "Le r\u00e9sultat est correct mais n'est pas encore _RESTful_. En effet, l'architecture REST ne pr\u00e9conise pas le passage d'information au serveur via la cha\u00eene de requ\u00eate (\"query string\"), mais en utiliant l'URL pour identifier une ressource."
            ]
        },
        {
            "cell_type": "markdown",
            "metadata": {},
            "source": [
                "<div style=\"background-color:#eef;padding:10px;border-radius:3px\">\n",
                "<b>3.3 -</b> Modifiez le serveur en le renommant <tt>TD3-s4.py</tt> pour qu'il renvoie l'information en utilisant les param\u00e8tres pass\u00e9s dans l'URL sous la forme<br> <tt>/toctoc/&lt;prenom>/&lt;nom></tt>.\n",
                "\n",
                "Modifiez \u00e9galement votre interface en l'appelant <a href=\"http://localhost:8080/TD3-s4.html\"><tt>TD3-s4.html</tt></a> pour r\u00e9aliser l'appel AJAX sous la forme <tt>GET /toctoc/&lt;prenom>/&lt;nom></tt>.\n",
                "\n",
                "Testez le r\u00e9sultat... qui devrait \u00eatre exactement le m\u00eame qu'au <b>\u00a7 3.2</b>..."
            ]
        },
        {
            "cell_type": "code",
            "execution_count": 2,
            "metadata": {
                "collapsed": true
            },
            "outputs": [],
            "source": [
                "%pycat TD3-s4.py"
            ]
        },
        {
            "cell_type": "markdown",
            "metadata": {},
            "source": [
                "### 4. Affichage d'informations provenant de la base de donn\u00e9es"
            ]
        },
        {
            "cell_type": "markdown",
            "metadata": {},
            "source": [
                "L'objectif est maintenant de s'appuyer sur le travail pr\u00e9c\u00e9demment r\u00e9alis\u00e9 pour cr\u00e9er une application autour de la base de donn\u00e9es des pays. Pour cela, r\u00e9cup\u00e9rez le fichier <tt>pays.sqlite</tt> (TD 1/2) et copiez-le dans le r\u00e9pertoire courant."
            ]
        },
        {
            "cell_type": "markdown",
            "metadata": {},
            "source": [
                "<div style=\"background-color:#eef;padding:10px;border-radius:3px\">\n",
                "<b>4.1 -</b>\n",
                "En partant du serveur <tt>TD2-s8.py</tt> du TD n\u00b02 (question 5.6), cr\u00e9ez <tt>TD3-s5.py</tt> puis modifiez-le pour que le code html renvoy\u00e9 ne corresponde plus \u00e0 une page html compl\u00e8te, mais puisse \u00eatre <b>int\u00e9gr\u00e9 dans une page</b>. Il suffit pour cela de suprimmer les balises DOCTYPE, html et head et son contenu.\n",
                "\n",
                "D\u00e9veloppez ensuite une page nomm\u00e9e <a href=\"http://localhost:8080/TD3-s5.html\"><tt>TD3-s5.html</tt></a> pour ce serveur, qui r\u00e9alise une requ\u00eate AJAX sur l'URL <tt>/country</tt> param\u00e9tr\u00e9e par le nom du pays saisi dans le formulaire. L'objectif est de pouvoir afficher une bo\u00eete d'information cr\u00e9\u00e9e c\u00f4t\u00e9 serveur pour obtenir un r\u00e9sultat comme ci-dessous.\n",
                "</div>\n",
                "\n",
                "<b>Remarque :</b> si vous n'avez pas eu le temps de terminer le TD2, un corrig\u00e9 du code de la question 5.6 du TD2 vous est propos\u00e9 dans le fichier <tt>corrige-TD2-s8.py</tt>\n",
                "\n",
                "<img src=\"TD3-s5.png\" width=\"400\">\n",
                "<div style=\"text-align:center; font-size:80%\">Exemple de r\u00e9sultat</div>"
            ]
        },
        {
            "cell_type": "code",
            "execution_count": 3,
            "metadata": {
                "collapsed": true
            },
            "outputs": [],
            "source": [
                "%pycat TD3-s5.py"
            ]
        },
        {
            "cell_type": "markdown",
            "metadata": {},
            "source": [
                "<div style=\"background-color:#eef;padding:10px;border-radius:3px\">\n",
                "<b>4.2 -</b> Utilisez maintenant le dernier serveur du TD pr\u00e9c\u00e9dent (nomm\u00e9 TD2-s9.py) que vous pouvez renommer TD3-s6.py. Ce serveur est capable de renvoyer une structure JSON apr\u00e8s une requ\u00eate appropri\u00e9e."
            ]
        },
        {
            "cell_type": "code",
            "execution_count": 4,
            "metadata": {
                "collapsed": true
            },
            "outputs": [],
            "source": [
                "%pycat TD3-s6.py"
            ]
        },
        {
            "cell_type": "markdown",
            "metadata": {},
            "source": [
                "<div style=\"background-color:#eef;padding:10px;border-radius:3px\">\n",
                "<b>4.3 -</b> C\u00f4t\u00e9 client, votre nouveau document nomm\u00e9 <a href=\"http://localhost:8080/TD3-s6.html\"><tt>TD3-s6.html</tt></a> devra r\u00e9cup\u00e9rer l'information et l'exploiter pour mettre \u00e0 jour son interface.\n",
                "</div>\n"
            ]
        },
        {
            "cell_type": "markdown",
            "metadata": {},
            "source": [
                "Voici le type de r\u00e9ponse renvoy\u00e9e par le serveur apr\u00e8s une requ\u00eate :\n",
                "http://localhost:8080/service/country/Luxembourg"
            ]
        },
        {
            "cell_type": "raw",
            "metadata": {},
            "source": [
                "{\n",
                "    \"wp\": \"Luxembourg\",\n",
                "    \"name\": \"Grand Duchy of Luxembourg\",\n",
                "    \"capital\": \"Luxembourg City\",\n",
                "    \"latitude\": 49.81444444444444,\n",
                "    \"longitude\": 6.131666666666666,\n",
                "}"
            ]
        },
        {
            "cell_type": "markdown",
            "metadata": {},
            "source": [
                "C\u00f4t\u00e9 client, voici un fonction javascript pour envoyer la requ\u00eate, puis interpr\u00e9ter cette r\u00e9ponse et afficher l'information obtenue.\n",
                "\n",
                "<b>N.B.</b> il manque le d\u00e9tail de l'impl\u00e9mentation HTML qui reste \u00e0 votre charge. Les identifiants (valeur de l'attribut id) \u00e0 utiliser pour les principaux \u00e9l\u00e9ments sont faciles \u00e0 d\u00e9duire du code javascript qui acc\u00e8de \u00e0 ceux-ci via l'objet window."
            ]
        },
        {
            "cell_type": "raw",
            "metadata": {},
            "source": [
                "function envoiformulaire(e) {\n",
                "   var xhr = new XMLHttpRequest(); \n",
                "\n",
                "   // on r\u00e9cup\u00e8re le nom du pays\n",
                "   var ps = window.pays.value;\n",
                "\n",
                "   // requ\u00eate au serveur\n",
                "   xhr.open('GET','/service/country/'+ps,true);\n",
                "  \n",
                "   // fonction callback\n",
                "   xhr.onload = function() {\n",
                "\n",
                "     // r\u00e9cup\u00e9ration des informations au format json\n",
                "     if ( this.status == 200 ) {\n",
                "       var data = JSON.parse(this.responseText);\n",
                "       window.error_msg.innerHTML = ''\n",
                "       window.country_data.style.display = 'block';\n",
                "       window.country_name.textContent = data.name;\n",
                "       window.capital.textContent = data.capital;\n",
                "       window.latitude.textContent = data.latitude.toFixed(3);\n",
                "       window.longitude.textContent = data.longitude.toFixed(3);\n",
                "       window.wp.href = 'https://en.wikipedia.org/wiki/'+data.wp;\n",
                "     }\n",
                "     // affichage d'un message d'erreur\n",
                "     else {\n",
                "        window.country_data.style.display = 'none';\n",
                "        window.error_msg.innerHTML = this.statusText;\n",
                "     }\n",
                "  };\n",
                "  xhr.send();\n",
                "}"
            ]
        },
        {
            "cell_type": "markdown",
            "metadata": {},
            "source": [
                "<img src=\"TD3-s6.png\" width=\"400\">\n",
                "<div style=\"text-align:center; font-size:80%\">Exemple de r\u00e9sultat</div>"
            ]
        },
        {
            "cell_type": "markdown",
            "metadata": {},
            "source": [
                "### 5. Carte glissante"
            ]
        },
        {
            "cell_type": "markdown",
            "metadata": {},
            "source": [
                "L'objectif est maintenant de remplacer la saisie manuelle dans notre formulaire, par la s\u00e9lection du pays en faisant un clic sur une carte glissante affichant l'ensemble des pays disponibles."
            ]
        },
        {
            "cell_type": "markdown",
            "metadata": {},
            "source": [
                "#### a) Affichage d\u2019une carte glissante"
            ]
        },
        {
            "cell_type": "markdown",
            "metadata": {},
            "source": [
                "Pour r\u00e9aliser l\u2019affichage d\u2019une carte g\u00e9ographique glissante (slippy map) on utilise la biblioth\u00e8que javascript Leaflet (http://leafletjs.com/). Cette biblioth\u00e8que permet l\u2019affichage d\u2019un fond de carte utilisant des serveurs de dalles (tiles server) disponible sur Internet (on utilisera OpenStreetMap) ainsi que l\u2019affichage de marqueurs et d\u2019autres \u00e9l\u00e9ments graphiques en superposition. Tous ces \u00e9l\u00e9ments graphiques peuvent \u00eatre rendus interactifs gr\u00e2ce \u00e0 l\u2019utilisation de javascript.\n"
            ]
        },
        {
            "cell_type": "markdown",
            "metadata": {},
            "source": [
                "Un exemple simple de carte glissante vous est fourni. Cet exemple intitul\u00e9 <i>\u00ab Mes lieux insolites \u00e0 la Croix-Rousse \u00bb</i> montre une carte glissante de ce quartier de Lyon sur laquelle 3 points d\u2019int\u00e9r\u00eats <i>(POI=Point of Interest)</i> sont positionn\u00e9s. En cliquant sur l\u2019un d\u2019entre eux, une fen\u00eatre popup s\u2019affiche pr\u00e9cisant le nom de ce lieu et, en-dessous de la carte, une description de ce lieu est donn\u00e9e."
            ]
        },
        {
            "cell_type": "markdown",
            "metadata": {},
            "source": [
                "<div style=\"background-color:#eef;padding:10px;border-radius:3px\">\n",
                "Lancer le serveur <tt>TD3-lieux-insolites.py</tt> et ouvrez la page <a href=\"http://localhost:8080/TD3-lieux-insolites.html\"><tt>TD3-lieux-insolites.html</tt></a> :\n",
                "\n",
                "<img src=\"TD3-lieux-insolites.png\" style=\"border-radius: 7px; border: 1px solid black;box-shadow: 5px 5px 5px black\">\n",
                "&nbsp;"
            ]
        },
        {
            "cell_type": "markdown",
            "metadata": {},
            "source": [
                "<div style=\"background-color:#efe;padding:10px;border-radius:10px\">\n",
                "<b>Parenth\u00e8se culturelle</b> (\u00e0 l'attention de celles et ceux qui ne connaitraient de Lyon que le trajet du 3-4-55 pour aller prendre leur TGV le vendredi soir) : \n",
                "\n",
                "La Croix-Rousse est un quartier situ\u00e9 au nord de Lyon r\u00e9put\u00e9 pour son glorieux pass\u00e9 li\u00e9 au tissage de la soie (La Fabrique, la r\u00e9volte des Canuts, les premiers syndicats ouvriers, la naissance du mouvement mutualiste, etc.) et surtout pour la pr\u00e9sence de la fanfare Piston le dimanche matin sur le march\u00e9 du boulevard\u2026"
            ]
        },
        {
            "cell_type": "markdown",
            "metadata": {},
            "source": [
                "Techniquement, au moment du chargement de la page, une premi\u00e8re requ\u00eate AJAX est faite pour r\u00e9cup\u00e9rer le fichier des POI depuis le serveur et les afficher sur la carte glissante \u00e0 l\u2019aide d\u2019une fonction javascript de la biblioth\u00e8que _Leaflet_. A chaque clic sur un POI, une autre requ\u00eate AJAX est d\u00e9clench\u00e9e pour r\u00e9cup\u00e9rer la description associ\u00e9e au POI et l\u2019afficher dans la zone pr\u00e9vue sous la carte. C\u00f4t\u00e9 serveur, la m\u00e9thode surcharg\u00e9e do_GET prend donc en compte 2 URLs particuli\u00e8res :\n",
                "* `/location` : qui renvoie la liste des POI au format JSON\n",
                "* `/description/x` : qui renvoie la description pour le POI n\u00b0 x au format JSON\n"
            ]
        },
        {
            "cell_type": "markdown",
            "metadata": {},
            "source": [
                "#### b) Utilisation d'une carte pour la localisation des capitales et la s\u00e9lection d'un pays"
            ]
        },
        {
            "cell_type": "markdown",
            "metadata": {},
            "source": [
                "<div style=\"background-color:#eef;padding:10px;border-radius:3px\">\n",
                "<b>5.1 -</b> D\u00e9veloppez un nouveau serveur <tt>TD3-s7.py</tt> et une nouvelle interface <a href=\"http://localhost:8080/TD3-s7.html\"><tt>TD3-s7.html</tt></a> qui reprend le travail de la section 4 en int\u00e9grant une carte glissante de la zone du monde qui concerne votre projet. Cette carte affiche des POI \u00e0 l'emplacement des capitales. En cliquant sur un marqueur, une bo\u00eete d'information avec les donn\u00e9es du pays est affich\u00e9e. \n",
                "</div>\n",
                "\n",
                "\n",
                "<img src=\"TD3-s7.png\" >\n",
                "<div style=\"text-align:center; font-size:80%\">Exemple de r\u00e9sultat</div>"
            ]
        },
        {
            "cell_type": "code",
            "execution_count": 5,
            "metadata": {
                "collapsed": true
            },
            "outputs": [],
            "source": [
                "%pycat TD3-s7.py"
            ]
        },
        {
            "cell_type": "code",
            "execution_count": 6,
            "metadata": {
                "collapsed": true
            },
            "outputs": [],
            "source": []
        }
    ],
    "metadata": {
        "kernelspec": {
            "display_name": "Python 3",
            "language": "python",
            "name": "python3"
        },
        "language_info": {
            "codemirror_mode": {
                "name": "ipython",
                "version": 3
            },
            "file_extension": ".py",
            "mimetype": "text/x-python",
            "name": "python",
            "nbconvert_exporter": "python",
            "pygments_lexer": "ipython3",
            "version": "3.6.6"
        }
    },
    "nbformat": 4,
    "nbformat_minor": 1
}